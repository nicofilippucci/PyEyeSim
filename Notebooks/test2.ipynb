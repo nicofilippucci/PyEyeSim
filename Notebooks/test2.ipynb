{
 "cells": [
  {
   "cell_type": "code",
   "execution_count": 74,
   "metadata": {},
   "outputs": [],
   "source": [
    "import numpy as np\n",
    "import pandas as pd\n",
    "from matplotlib import pyplot as plt\n",
    "from PyEyeSim import EyeData"
   ]
  },
  {
   "cell_type": "code",
   "execution_count": 75,
   "metadata": {},
   "outputs": [
    {
     "name": "stdout",
     "output_type": "stream",
     "text": [
      "The autoreload extension is already loaded. To reload it, use:\n",
      "  %reload_ext autoreload\n"
     ]
    }
   ],
   "source": [
    "%load_ext autoreload\n",
    "%autoreload 2"
   ]
  },
  {
   "cell_type": "code",
   "execution_count": 76,
   "metadata": {},
   "outputs": [
    {
     "name": "stdout",
     "output_type": "stream",
     "text": [
      "(52, 9)\n"
     ]
    }
   ],
   "source": [
    "Path='C:/Users/nickp/Documents/Courses/P1&P2/EyeMovementDat/'\n",
    "FilePath=Path+'test2.csv'\n",
    "FixData=pd.read_csv(FilePath, sep=',',header=0)\n",
    "print(np.shape(FixData))"
   ]
  },
  {
   "cell_type": "code",
   "execution_count": 77,
   "metadata": {},
   "outputs": [
    {
     "name": "stdout",
     "output_type": "stream",
     "text": [
      "dataset size:  (52, 9)\n",
      "presentation size:  x= 100 pixels y= 100  pixels\n",
      "presentation size:  x= 100 pixels y= 100  pixels\n",
      "Stimulus  not found !!, provide column as Stimulus =YourColumn , default:  Stimulus\n",
      "subjectID  not found !!, provide column as subjectID =YourColumn , default:  subjectID\n",
      "mean_x  not found !!, provide column as mean_x =YourColumn , default:  mean_x\n",
      "mean_y  not found !!, provide column as mean_y =YourColumn , default:  mean_y\n",
      "info found for 4 subjects, and 1 stimuli\n",
      "sizecorrect =  True ; If stimulus not full screen, assume central presentation, use correction\n",
      "run descriptive analysis\n",
      "Data for  4 observers and  1  stimuli.\n",
      "Mean fixation number:  13.0  +/-  4.95\n",
      "fixation duration not asked for\n",
      "Num of trials with zero fixations: 0\n",
      "Num valid trials  4\n",
      "Mean X location:  41.5  +/-  2.4  pixels\n",
      "Mean Y location:  49.3  +/-  0.4  pixels\n",
      "Mean saccade  amplitude:  8.2  +/-  2.9  pixels\n",
      "Mean scanpath  length:  85.1  +/-  7.5  pixels\n"
     ]
    },
    {
     "name": "stderr",
     "output_type": "stream",
     "text": [
      "C:\\Users\\nickp\\Documents\\GitHub\\PyEyeSim\\PyEyeSim\\__init__.py:281: UserWarning: Stim path not provided\n",
      "  warnings.warn(\"Stim path not provided\")\n"
     ]
    }
   ],
   "source": [
    "\n",
    "sizeX,sizeY=100,100\n",
    "\n",
    "\n",
    "DyslexiaDat=EyeData(FixData,sizeX,sizeY)\n",
    "DyslexiaDat.DataInfo(mean_x='fix_x',mean_y='fix_y',FixDuration='duration_ms',Stimulus='stimfile',subjectID='sid')"
   ]
  },
  {
   "cell_type": "code",
   "execution_count": 78,
   "metadata": {},
   "outputs": [
    {
     "name": "stdout",
     "output_type": "stream",
     "text": [
      "dataset size:  (52, 9)\n",
      "presentation size:  x= 100 pixels y= 100  pixels\n",
      "presentation size:  x= 100 pixels y= 100  pixels\n",
      "Stimulus  not found !!, provide column as Stimulus =YourColumn , default:  Stimulus\n",
      "subjectID  not found !!, provide column as subjectID =YourColumn , default:  subjectID\n",
      "mean_x  not found !!, provide column as mean_x =YourColumn , default:  mean_x\n",
      "mean_y  not found !!, provide column as mean_y =YourColumn , default:  mean_y\n",
      "info found for 4 subjects, and 1 stimuli\n",
      "sizecorrect =  True ; If stimulus not full screen, assume central presentation, use correction\n",
      "run descriptive analysis\n",
      "Data for  4 observers and  1  stimuli.\n",
      "Mean fixation number:  13.0  +/-  4.95\n",
      "fixation duration not asked for\n",
      "Num of trials with zero fixations: 0\n",
      "Num valid trials  4\n",
      "Mean X location:  41.5  +/-  2.4  pixels\n",
      "Mean Y location:  49.3  +/-  0.4  pixels\n",
      "Mean saccade  amplitude:  8.2  +/-  2.9  pixels\n",
      "Mean scanpath  length:  85.1  +/-  7.5  pixels\n"
     ]
    },
    {
     "name": "stderr",
     "output_type": "stream",
     "text": [
      "C:\\Users\\nickp\\Documents\\GitHub\\PyEyeSim\\PyEyeSim\\__init__.py:281: UserWarning: Stim path not provided\n",
      "  warnings.warn(\"Stim path not provided\")\n"
     ]
    }
   ],
   "source": [
    "\n",
    "sizeX,sizeY=100,100\n",
    "\n",
    "\n",
    "DyslexiaDat=EyeData(FixData,sizeX,sizeY)\n",
    "DyslexiaDat.DataInfo(mean_x='fix_x',mean_y='fix_y',FixDuration='duration_ms',Stimulus='stimfile',subjectID='sid')"
   ]
  },
  {
   "cell_type": "code",
   "execution_count": 79,
   "metadata": {},
   "outputs": [
    {
     "data": {
      "image/png": "[encoded data removed]",
      "text/plain": [
       "<Figure size 640x480 with 1 Axes>"
      ]
     },
     "metadata": {},
     "output_type": "display_data"
    }
   ],
   "source": [
    "DyslexiaDat.VisScanPath(0,visFix=True,scan_path_col='lightblue', allS=0)"
   ]
  },
  {
   "cell_type": "code",
   "execution_count": 80,
   "metadata": {},
   "outputs": [
    {
     "data": {
      "image/png": "[encoded data removed]",
      "text/plain": [
       "<Figure size 640x480 with 1 Axes>"
      ]
     },
     "metadata": {},
     "output_type": "display_data"
    }
   ],
   "source": [
    "DyslexiaDat.VisScanPath(0,visFix=True,scan_path_col='lightblue', allS=1)"
   ]
  },
  {
   "cell_type": "code",
   "execution_count": 81,
   "metadata": {},
   "outputs": [
    {
     "data": {
      "image/png": "[encoded data removed]",
      "text/plain": [
       "<Figure size 640x480 with 1 Axes>"
      ]
     },
     "metadata": {},
     "output_type": "display_data"
    }
   ],
   "source": [
    "DyslexiaDat.VisScanPath(0,visFix=True,scan_path_col='lightblue', allS=2)"
   ]
  },
  {
   "cell_type": "code",
   "execution_count": 82,
   "metadata": {},
   "outputs": [
    {
     "data": {
      "image/png": "[encoded data removed]",
      "text/plain": [
       "<Figure size 640x480 with 1 Axes>"
      ]
     },
     "metadata": {},
     "output_type": "display_data"
    }
   ],
   "source": [
    "DyslexiaDat.VisScanPath(0,visFix=True,scan_path_col='lightblue', allS=3)"
   ]
  },
  {
   "cell_type": "code",
   "execution_count": 83,
   "metadata": {},
   "outputs": [],
   "source": [
    "SaccadeObj = DyslexiaDat.GetSaccades()"
   ]
  },
  {
   "cell_type": "code",
   "execution_count": 84,
   "metadata": {},
   "outputs": [],
   "source": [
    "Saccade = DyslexiaDat.SaccadeSel(SaccadeObj, nHor=1, nVer=1, minL=0)"
   ]
  },
  {
   "cell_type": "code",
   "execution_count": 105,
   "metadata": {},
   "outputs": [],
   "source": [
    "SimMatrix = DyslexiaDat.SacSim1Group(Saccade, method='peak180', Thr=0)"
   ]
  },
  {
   "cell_type": "code",
   "execution_count": 106,
   "metadata": {},
   "outputs": [
    {
     "data": {
      "text/plain": [
       "(4, 4, 1, 1, 1)"
      ]
     },
     "execution_count": 106,
     "metadata": {},
     "output_type": "execute_result"
    }
   ],
   "source": [
    "SimMatrix.shape"
   ]
  },
  {
   "cell_type": "code",
   "execution_count": 107,
   "metadata": {},
   "outputs": [
    {
     "name": "stdout",
     "output_type": "stream",
     "text": [
      "Similarity(1,2): 0.19838579389522237\n",
      "Similarity(1,3): 0.1697873548918234\n",
      "Similarity(1,4): 0.11362167369276585\n",
      "Similarity(2,3): 0.19433030565344958\n",
      "Similarity(2,4): 0.14632259060060473\n",
      "Similarity(3,4): 0.12739447851383942\n"
     ]
    }
   ],
   "source": [
    "print(f'Similarity(1,2): {SimMatrix[0][1][0][0][0]}')\n",
    "print(f'Similarity(1,3): {SimMatrix[0][2][0][0][0]}')\n",
    "print(f'Similarity(1,4): {SimMatrix[0][3][0][0][0]}')\n",
    "print(f'Similarity(2,3): {SimMatrix[1][2][0][0][0]}')\n",
    "print(f'Similarity(2,4): {SimMatrix[1][3][0][0][0]}')\n",
    "print(f'Similarity(3,4): {SimMatrix[2][3][0][0][0]}')"
   ]
  },
  {
   "cell_type": "code",
   "execution_count": 108,
   "metadata": {},
   "outputs": [
    {
     "name": "stdout",
     "output_type": "stream",
     "text": [
      "Similarity(3,4): 0.12739447851383942\n",
      "Similarity(1,4): 0.11362167369276585\n",
      "Similarity(2,4): 0.14632259060060473\n"
     ]
    }
   ],
   "source": [
    "print(f'Similarity(3,4): {SimMatrix[2][3][0][0][0]}')\n",
    "print(f'Similarity(1,4): {SimMatrix[0][3][0][0][0]}')\n",
    "print(f'Similarity(2,4): {SimMatrix[1][3][0][0][0]}')"
   ]
  },
  {
   "cell_type": "markdown",
   "metadata": {},
   "source": [
    "(sim(3,4) << sim(1,4) < sim(2,4)) = Not True"
   ]
  },
  {
   "cell_type": "markdown",
   "metadata": {},
   "source": [
    "---"
   ]
  },
  {
   "cell_type": "code",
   "execution_count": 102,
   "metadata": {},
   "outputs": [],
   "source": [
    "SimMatrix = DyslexiaDat.SacSim1Group(Saccade, method='peak180', Thr=0, match=True)"
   ]
  },
  {
   "cell_type": "code",
   "execution_count": 103,
   "metadata": {},
   "outputs": [
    {
     "name": "stdout",
     "output_type": "stream",
     "text": [
      "Similarity(1,2): 0.2998039506944742\n",
      "Similarity(1,3): 0.4716789474476214\n",
      "Similarity(1,4): 0.6533456033252897\n",
      "Similarity(2,3): 0.5980395083927301\n",
      "Similarity(2,4): 0.7969406940334427\n",
      "Similarity(3,4): 0.44384517247675925\n"
     ]
    }
   ],
   "source": [
    "print(f'Similarity(1,2): {SimMatrix[0][1][0][0][0]}')\n",
    "print(f'Similarity(1,3): {SimMatrix[0][2][0][0][0]}')\n",
    "print(f'Similarity(1,4): {SimMatrix[0][3][0][0][0]}')\n",
    "print(f'Similarity(2,3): {SimMatrix[1][2][0][0][0]}')\n",
    "print(f'Similarity(2,4): {SimMatrix[1][3][0][0][0]}')\n",
    "print(f'Similarity(3,4): {SimMatrix[2][3][0][0][0]}')"
   ]
  },
  {
   "cell_type": "code",
   "execution_count": 104,
   "metadata": {},
   "outputs": [
    {
     "name": "stdout",
     "output_type": "stream",
     "text": [
      "Similarity(3,4): 0.44384517247675925\n",
      "Similarity(1,4): 0.6533456033252897\n",
      "Similarity(2,4): 0.7969406940334427\n"
     ]
    }
   ],
   "source": [
    "print(f'Similarity(3,4): {SimMatrix[2][3][0][0][0]}')\n",
    "print(f'Similarity(1,4): {SimMatrix[0][3][0][0][0]}')\n",
    "print(f'Similarity(2,4): {SimMatrix[1][3][0][0][0]}')"
   ]
  },
  {
   "cell_type": "markdown",
   "metadata": {},
   "source": [
    "(sim(3,4) << sim(1,4) < sim(2,4)) = True -> Q.E.D."
   ]
  },
  {
   "cell_type": "markdown",
   "metadata": {},
   "source": [
    "---"
   ]
  },
  {
   "cell_type": "code",
   "execution_count": 109,
   "metadata": {},
   "outputs": [],
   "source": [
    "SimMatrix = DyslexiaDat.SacSim1Group(Saccade, method='cosine', Thr=5)"
   ]
  },
  {
   "cell_type": "code",
   "execution_count": 110,
   "metadata": {},
   "outputs": [
    {
     "name": "stdout",
     "output_type": "stream",
     "text": [
      "Similarity(1,2): 0.7892800282301352\n",
      "Similarity(1,3): 0.32998316455372223\n",
      "Similarity(1,4): 0.7302967433402215\n",
      "Similarity(2,3): 0.26943012562182544\n",
      "Similarity(2,4): 0.7453559924999299\n",
      "Similarity(3,4): 0.0\n"
     ]
    }
   ],
   "source": [
    "print(f'Similarity(1,2): {SimMatrix[0][1][0][0][0]}')\n",
    "print(f'Similarity(1,3): {SimMatrix[0][2][0][0][0]}')\n",
    "print(f'Similarity(1,4): {SimMatrix[0][3][0][0][0]}')\n",
    "print(f'Similarity(2,3): {SimMatrix[1][2][0][0][0]}')\n",
    "print(f'Similarity(2,4): {SimMatrix[1][3][0][0][0]}')\n",
    "print(f'Similarity(3,4): {SimMatrix[2][3][0][0][0]}')"
   ]
  },
  {
   "cell_type": "code",
   "execution_count": 111,
   "metadata": {},
   "outputs": [
    {
     "name": "stdout",
     "output_type": "stream",
     "text": [
      "Similarity(3,4): 0.0\n",
      "Similarity(1,4): 0.7302967433402215\n",
      "Similarity(2,4): 0.7453559924999299\n"
     ]
    }
   ],
   "source": [
    "print(f'Similarity(3,4): {SimMatrix[2][3][0][0][0]}')\n",
    "print(f'Similarity(1,4): {SimMatrix[0][3][0][0][0]}')\n",
    "print(f'Similarity(2,4): {SimMatrix[1][3][0][0][0]}')"
   ]
  },
  {
   "cell_type": "markdown",
   "metadata": {},
   "source": [
    "(sim(3,4) << sim(1,4) < sim(2,4)) = True -> Q.E.D."
   ]
  },
  {
   "cell_type": "markdown",
   "metadata": {},
   "source": [
    "Even if cosine similarity is much more drastic, considering the scanpath 3 and 4 the same (similarity 0.0), is not ideal."
   ]
  },
  {
   "cell_type": "code",
   "execution_count": 114,
   "metadata": {},
   "outputs": [],
   "source": [
    "SimMatrix = DyslexiaDat.SacSim1Group(Saccade, method='cosine', Thr=20)"
   ]
  },
  {
   "cell_type": "code",
   "execution_count": 116,
   "metadata": {},
   "outputs": [
    {
     "name": "stdout",
     "output_type": "stream",
     "text": [
      "Similarity(1,2): 0.9203579866168446\n",
      "Similarity(1,3): 0.6040095911547237\n",
      "Similarity(1,4): 0.8485281374238569\n",
      "Similarity(2,3): 0.6646690829713778\n",
      "Similarity(2,4): 0.8677218312746249\n",
      "Similarity(3,4): 0.3713906763541037\n"
     ]
    }
   ],
   "source": [
    "print(f'Similarity(1,2): {SimMatrix[0][1][0][0][0]}')\n",
    "print(f'Similarity(1,3): {SimMatrix[0][2][0][0][0]}')\n",
    "print(f'Similarity(1,4): {SimMatrix[0][3][0][0][0]}')\n",
    "print(f'Similarity(2,3): {SimMatrix[1][2][0][0][0]}')\n",
    "print(f'Similarity(2,4): {SimMatrix[1][3][0][0][0]}')\n",
    "print(f'Similarity(3,4): {SimMatrix[2][3][0][0][0]}')"
   ]
  },
  {
   "cell_type": "code",
   "execution_count": 115,
   "metadata": {},
   "outputs": [
    {
     "name": "stdout",
     "output_type": "stream",
     "text": [
      "Similarity(3,4): 0.3713906763541037\n",
      "Similarity(1,4): 0.8485281374238569\n",
      "Similarity(2,4): 0.8677218312746249\n"
     ]
    }
   ],
   "source": [
    "print(f'Similarity(3,4): {SimMatrix[2][3][0][0][0]}')\n",
    "print(f'Similarity(1,4): {SimMatrix[0][3][0][0][0]}')\n",
    "print(f'Similarity(2,4): {SimMatrix[1][3][0][0][0]}')"
   ]
  },
  {
   "cell_type": "markdown",
   "metadata": {},
   "source": [
    "Anyway, is possible to modifing the threshold to find the optimal one that fit your case."
   ]
  },
  {
   "cell_type": "markdown",
   "metadata": {},
   "source": []
  }
 ],
 "metadata": {
  "kernelspec": {
   "display_name": "eyesim",
   "language": "python",
   "name": "python3"
  },
  "language_info": {
   "codemirror_mode": {
    "name": "ipython",
    "version": 3
   },
   "file_extension": ".py",
   "mimetype": "text/x-python",
   "name": "python",
   "nbconvert_exporter": "python",
   "pygments_lexer": "ipython3",
   "version": "3.12.9"
  }
 },
 "nbformat": 4,
 "nbformat_minor": 2
}
