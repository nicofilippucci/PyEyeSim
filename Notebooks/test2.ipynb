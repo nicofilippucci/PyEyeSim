{
 "cells": [
  {
   "cell_type": "code",
   "execution_count": 465,
   "metadata": {},
   "outputs": [],
   "source": [
    "import numpy as np\n",
    "import pandas as pd\n",
    "from matplotlib import pyplot as plt\n",
    "from PyEyeSim import EyeData"
   ]
  },
  {
   "cell_type": "code",
   "execution_count": 466,
   "metadata": {},
   "outputs": [
    {
     "name": "stdout",
     "output_type": "stream",
     "text": [
      "The autoreload extension is already loaded. To reload it, use:\n",
      "  %reload_ext autoreload\n"
     ]
    }
   ],
   "source": [
    "%load_ext autoreload\n",
    "%autoreload 2"
   ]
  },
  {
   "cell_type": "code",
   "execution_count": 467,
   "metadata": {},
   "outputs": [
    {
     "name": "stdout",
     "output_type": "stream",
     "text": [
      "(52, 9)\n"
     ]
    }
   ],
   "source": [
    "Path='C:/Users/Utente/Documents/University/Courses/P1&P2/EyeMovementDat/'\n",
    "FilePath=Path+'test2.csv'\n",
    "FixData=pd.read_csv(FilePath, sep=',',header=0)\n",
    "print(np.shape(FixData))"
   ]
  },
  {
   "cell_type": "code",
   "execution_count": 468,
   "metadata": {},
   "outputs": [
    {
     "name": "stdout",
     "output_type": "stream",
     "text": [
      "dataset size:  (52, 9)\n",
      "presentation size:  x= 100 pixels y= 100  pixels\n",
      "presentation size:  x= 100 pixels y= 100  pixels\n",
      "Stimulus  not found !!, provide column as Stimulus =YourColumn , default:  Stimulus\n",
      "subjectID  not found !!, provide column as subjectID =YourColumn , default:  subjectID\n",
      "mean_x  not found !!, provide column as mean_x =YourColumn , default:  mean_x\n",
      "mean_y  not found !!, provide column as mean_y =YourColumn , default:  mean_y\n",
      "info found for 4 subjects, and 1 stimuli\n",
      "sizecorrect =  True ; If stimulus not full screen, assume central presentation, use correction\n",
      "run descriptive analysis\n",
      "Data for  4 observers and  1  stimuli.\n",
      "Mean fixation number:  13.0  +/-  4.95\n",
      "fixation duration not asked for\n",
      "Num of trials with zero fixations: 0\n",
      "Num valid trials  4\n",
      "Mean X location:  41.5  +/-  2.4  pixels\n",
      "Mean Y location:  49.6  +/-  0.4  pixels\n",
      "Mean saccade  amplitude:  8.0  +/-  2.8  pixels\n",
      "Mean scanpath  length:  83.5  +/-  8.6  pixels\n"
     ]
    },
    {
     "name": "stderr",
     "output_type": "stream",
     "text": [
      "C:\\Users\\Utente\\Documents\\University\\Master\\PyEyeSim\\PyEyeSim\\__init__.py:281: UserWarning: Stim path not provided\n",
      "  warnings.warn(\"Stim path not provided\")\n"
     ]
    }
   ],
   "source": [
    "\n",
    "sizeX,sizeY=100,100\n",
    "\n",
    "\n",
    "DyslexiaDat=EyeData(FixData,sizeX,sizeY)\n",
    "DyslexiaDat.DataInfo(mean_x='fix_x',mean_y='fix_y',FixDuration='duration_ms',Stimulus='stimfile',subjectID='sid')"
   ]
  },
  {
   "cell_type": "code",
   "execution_count": 469,
   "metadata": {},
   "outputs": [],
   "source": [
    "Saccades = DyslexiaDat.GetSaccades()"
   ]
  },
  {
   "cell_type": "code",
   "execution_count": 470,
   "metadata": {},
   "outputs": [
    {
     "name": "stdout",
     "output_type": "stream",
     "text": [
      "11.309932474020195\n",
      "348.6900675259798\n",
      "21.801409486351798\n",
      "0.0\n",
      "291.8014094863518\n",
      "63.43494882292201\n",
      "291.8014094863518\n",
      "0.0\n",
      "0.0\n",
      "338.1985905136482\n",
      "11.309932474020195\n",
      "303.69006752597977\n",
      "45.00000000000001\n",
      "0.0\n",
      "326.30993247402023\n",
      "18.434948822922017\n",
      "329.03624346792645\n",
      "38.65980825409008\n",
      "0.0\n"
     ]
    }
   ],
   "source": [
    "for s in Saccades[0][0]:\n",
    "    print(s.Angle())"
   ]
  },
  {
   "cell_type": "code",
   "execution_count": 471,
   "metadata": {},
   "outputs": [],
   "source": [
    "def anglediff(s1, s2):\n",
    "    # calculate the absolute difference in angles between two angles\n",
    "    diff = np.abs(s1 - s2)\n",
    "    # account for circular difference (angles wrap around at 360 degrees)\n",
    "    return min(diff, 360 - diff)"
   ]
  },
  {
   "cell_type": "code",
   "execution_count": 472,
   "metadata": {},
   "outputs": [],
   "source": [
    "def calculate_angle_differences(angles):\n",
    "    angle_diffs = []\n",
    "    for i in range(len(angles) - 1):\n",
    "        for j in range(i + 1, len(angles)):\n",
    "            diff = anglediff(angles[i], angles[j])\n",
    "            angle_diffs.append(diff)\n",
    "    return angle_diffs"
   ]
  },
  {
   "cell_type": "code",
   "execution_count": 473,
   "metadata": {},
   "outputs": [
    {
     "name": "stdout",
     "output_type": "stream",
     "text": [
      "Num Fixation: 20.0\n",
      "Avg angle differences: 41.34884344759843\n"
     ]
    },
    {
     "data": {
      "image/png": "[encoded data removed]",
      "text/plain": [
       "<Figure size 640x480 with 1 Axes>"
      ]
     },
     "metadata": {},
     "output_type": "display_data"
    }
   ],
   "source": [
    "DyslexiaDat.VisScanPath(0,visFix=True,scan_path_col='lightblue', allS=0)\n",
    "angle_diffs = calculate_angle_differences([s.Angle() for s in Saccades[0][0]])\n",
    "print(f\"Num Fixation: {DyslexiaDat.nfix[0][0].to_numpy()}\")\n",
    "print(f\"Avg angle differences: {np.mean(angle_diffs)}\")"
   ]
  },
  {
   "cell_type": "code",
   "execution_count": 474,
   "metadata": {},
   "outputs": [
    {
     "name": "stdout",
     "output_type": "stream",
     "text": [
      "Num Fixation: 15.0\n",
      "Avg angle differences: 33.31319953784185\n"
     ]
    },
    {
     "data": {
      "image/png": "[encoded data removed]",
      "text/plain": [
       "<Figure size 640x480 with 1 Axes>"
      ]
     },
     "metadata": {},
     "output_type": "display_data"
    }
   ],
   "source": [
    "DyslexiaDat.VisScanPath(0,visFix=True,scan_path_col='lightblue', allS=1)\n",
    "angle_diffs = calculate_angle_differences([s.Angle() for s in Saccades[1][0]])\n",
    "print(f\"Num Fixation: {DyslexiaDat.nfix[1][0].to_numpy()}\")\n",
    "print(f\"Avg angle differences: {np.mean(angle_diffs)}\")"
   ]
  },
  {
   "cell_type": "code",
   "execution_count": 475,
   "metadata": {},
   "outputs": [
    {
     "name": "stdout",
     "output_type": "stream",
     "text": [
      "Num Fixation: 10.0\n",
      "Avg angle differences: 7.272145942143073\n"
     ]
    },
    {
     "data": {
      "image/png": "[encoded data removed]",
      "text/plain": [
       "<Figure size 640x480 with 1 Axes>"
      ]
     },
     "metadata": {},
     "output_type": "display_data"
    }
   ],
   "source": [
    "DyslexiaDat.VisScanPath(0,visFix=True,scan_path_col='lightblue', allS=2)\n",
    "angle_diffs = calculate_angle_differences([s.Angle() for s in Saccades[2][0]])\n",
    "print(f\"Num Fixation: {DyslexiaDat.nfix[2][0].to_numpy()}\")\n",
    "print(f\"Avg angle differences: {np.mean(angle_diffs)}\")"
   ]
  },
  {
   "cell_type": "code",
   "execution_count": 476,
   "metadata": {},
   "outputs": [
    {
     "name": "stdout",
     "output_type": "stream",
     "text": [
      "Num Fixation: 7.0\n",
      "Avg angle differences: 0.0\n"
     ]
    },
    {
     "data": {
      "image/png": "[encoded data removed]",
      "text/plain": [
       "<Figure size 640x480 with 1 Axes>"
      ]
     },
     "metadata": {},
     "output_type": "display_data"
    }
   ],
   "source": [
    "DyslexiaDat.VisScanPath(0,visFix=True,scan_path_col='lightblue', allS=3)\n",
    "angle_diffs = calculate_angle_differences([s.Angle() for s in Saccades[3][0]])\n",
    "print(f\"Num Fixation: {DyslexiaDat.nfix[3][0].to_numpy()}\")\n",
    "print(f\"Avg angle differences: {np.mean(angle_diffs)}\")"
   ]
  },
  {
   "cell_type": "code",
   "execution_count": 477,
   "metadata": {},
   "outputs": [],
   "source": [
    "SaccadeObj = DyslexiaDat.GetSaccades()"
   ]
  },
  {
   "cell_type": "code",
   "execution_count": 478,
   "metadata": {},
   "outputs": [],
   "source": [
    "Saccade = DyslexiaDat.SaccadeSel(SaccadeObj, nHor=1, nVer=1, minL=0)"
   ]
  },
  {
   "cell_type": "code",
   "execution_count": 479,
   "metadata": {},
   "outputs": [],
   "source": [
    "SimMatrix = DyslexiaDat.SacSim1Group(Saccade, method='peak180', Thr=0)"
   ]
  },
  {
   "cell_type": "code",
   "execution_count": 480,
   "metadata": {},
   "outputs": [
    {
     "data": {
      "text/plain": [
       "(4, 4, 1, 1, 1)"
      ]
     },
     "execution_count": 480,
     "metadata": {},
     "output_type": "execute_result"
    }
   ],
   "source": [
    "SimMatrix.shape"
   ]
  },
  {
   "cell_type": "code",
   "execution_count": 481,
   "metadata": {},
   "outputs": [
    {
     "name": "stdout",
     "output_type": "stream",
     "text": [
      "Similarity(1,2): 0.19838579389522237\n",
      "Similarity(1,3): 0.15372569185125742\n",
      "Similarity(1,4): 0.14632259060060473\n",
      "Similarity(2,3): 0.12165932647918874\n",
      "Similarity(2,4): 0.11362167369276585\n",
      "Similarity(3,4): 0.028131784752480224\n"
     ]
    }
   ],
   "source": [
    "print(f'Similarity(1,2): {SimMatrix[0][1][0][0][0]}')\n",
    "print(f'Similarity(1,3): {SimMatrix[0][2][0][0][0]}')\n",
    "print(f'Similarity(1,4): {SimMatrix[0][3][0][0][0]}')\n",
    "print(f'Similarity(2,3): {SimMatrix[1][2][0][0][0]}')\n",
    "print(f'Similarity(2,4): {SimMatrix[1][3][0][0][0]}')\n",
    "print(f'Similarity(3,4): {SimMatrix[2][3][0][0][0]}')"
   ]
  },
  {
   "cell_type": "code",
   "execution_count": 482,
   "metadata": {},
   "outputs": [
    {
     "name": "stdout",
     "output_type": "stream",
     "text": [
      "Similarity(3,4): 0.028131784752480224\n",
      "Similarity(2,4): 0.11362167369276585\n",
      "Similarity(1,4): 0.14632259060060473\n"
     ]
    }
   ],
   "source": [
    "print(f'Similarity(3,4): {SimMatrix[2][3][0][0][0]}')\n",
    "print(f'Similarity(2,4): {SimMatrix[1][3][0][0][0]}')\n",
    "print(f'Similarity(1,4): {SimMatrix[0][3][0][0][0]}')"
   ]
  },
  {
   "cell_type": "markdown",
   "metadata": {},
   "source": [
    "(sim(3,4) << sim(2,4) < sim(1,4)) = Q.E.D"
   ]
  },
  {
   "cell_type": "markdown",
   "metadata": {},
   "source": [
    "---"
   ]
  },
  {
   "cell_type": "code",
   "execution_count": 483,
   "metadata": {},
   "outputs": [],
   "source": [
    "SimMatrix = DyslexiaDat.SacSim1Group(Saccade, method='peak180', Thr=0, match=True)"
   ]
  },
  {
   "cell_type": "code",
   "execution_count": 484,
   "metadata": {},
   "outputs": [
    {
     "name": "stdout",
     "output_type": "stream",
     "text": [
      "Similarity(1,2): 0.2998039506944742\n",
      "Similarity(1,3): 0.6484492606201744\n",
      "Similarity(1,4): 0.7969406940334427\n",
      "Similarity(2,3): 0.4581946585214346\n",
      "Similarity(2,4): 0.6533456033252897\n",
      "Similarity(3,4): 0.3544836782870357\n"
     ]
    }
   ],
   "source": [
    "print(f'Similarity(1,2): {SimMatrix[0][1][0][0][0]}')\n",
    "print(f'Similarity(1,3): {SimMatrix[0][2][0][0][0]}')\n",
    "print(f'Similarity(1,4): {SimMatrix[0][3][0][0][0]}')\n",
    "print(f'Similarity(2,3): {SimMatrix[1][2][0][0][0]}')\n",
    "print(f'Similarity(2,4): {SimMatrix[1][3][0][0][0]}')\n",
    "print(f'Similarity(3,4): {SimMatrix[2][3][0][0][0]}')"
   ]
  },
  {
   "cell_type": "code",
   "execution_count": 485,
   "metadata": {},
   "outputs": [
    {
     "name": "stdout",
     "output_type": "stream",
     "text": [
      "Similarity(3,4): 0.3544836782870357\n",
      "Similarity(2,4): 0.6533456033252897\n",
      "Similarity(1,4): 0.7969406940334427\n"
     ]
    }
   ],
   "source": [
    "print(f'Similarity(3,4): {SimMatrix[2][3][0][0][0]}')\n",
    "print(f'Similarity(2,4): {SimMatrix[1][3][0][0][0]}')\n",
    "print(f'Similarity(1,4): {SimMatrix[0][3][0][0][0]}')"
   ]
  },
  {
   "cell_type": "markdown",
   "metadata": {},
   "source": [
    "(sim(3,4) << sim(2,4) < sim(1,4)) = True -> Q.E.D."
   ]
  },
  {
   "cell_type": "markdown",
   "metadata": {},
   "source": [
    "---"
   ]
  },
  {
   "cell_type": "code",
   "execution_count": 486,
   "metadata": {},
   "outputs": [],
   "source": [
    "SimMatrix = DyslexiaDat.SacSim1Group(Saccade, method='cosine', Thr=5)"
   ]
  },
  {
   "cell_type": "code",
   "execution_count": 487,
   "metadata": {},
   "outputs": [
    {
     "name": "stdout",
     "output_type": "stream",
     "text": [
      "Similarity(1,2): 0.2107199717698648\n",
      "Similarity(1,3): 0.6720433633000309\n",
      "Similarity(1,4): 0.2546440075000701\n",
      "Similarity(2,3): 0.6713664654969003\n",
      "Similarity(2,4): 0.26970325665977846\n",
      "Similarity(3,4): 0.6\n"
     ]
    }
   ],
   "source": [
    "print(f'Similarity(1,2): {SimMatrix[0][1][0][0][0]}')\n",
    "print(f'Similarity(1,3): {SimMatrix[0][2][0][0][0]}')\n",
    "print(f'Similarity(1,4): {SimMatrix[0][3][0][0][0]}')\n",
    "print(f'Similarity(2,3): {SimMatrix[1][2][0][0][0]}')\n",
    "print(f'Similarity(2,4): {SimMatrix[1][3][0][0][0]}')\n",
    "print(f'Similarity(3,4): {SimMatrix[2][3][0][0][0]}')"
   ]
  },
  {
   "cell_type": "code",
   "execution_count": 488,
   "metadata": {},
   "outputs": [
    {
     "name": "stdout",
     "output_type": "stream",
     "text": [
      "Similarity(3,4): 0.6\n",
      "Similarity(1,4): 0.2546440075000701\n",
      "Similarity(2,4): 0.26970325665977846\n"
     ]
    }
   ],
   "source": [
    "print(f'Similarity(3,4): {SimMatrix[2][3][0][0][0]}')\n",
    "print(f'Similarity(1,4): {SimMatrix[0][3][0][0][0]}')\n",
    "print(f'Similarity(2,4): {SimMatrix[1][3][0][0][0]}')"
   ]
  },
  {
   "cell_type": "markdown",
   "metadata": {},
   "source": [
    "(sim(3,4) << sim(1,4) < sim(2,4)) = False"
   ]
  },
  {
   "cell_type": "markdown",
   "metadata": {},
   "source": [
    "Even if cosine similarity is much more drastic, considering the scanpath 3 and 4 the same (similarity 0.0), is not ideal."
   ]
  },
  {
   "cell_type": "code",
   "execution_count": 489,
   "metadata": {},
   "outputs": [],
   "source": [
    "SimMatrix = DyslexiaDat.SacSim1Group(Saccade, method='cosine', Thr=10)"
   ]
  },
  {
   "cell_type": "code",
   "execution_count": 490,
   "metadata": {},
   "outputs": [
    {
     "name": "stdout",
     "output_type": "stream",
     "text": [
      "Similarity(1,2): 0.19187796435823135\n",
      "Similarity(1,3): 0.30837334020760176\n",
      "Similarity(1,4): 0.2857142857142857\n",
      "Similarity(2,3): 0.2821950805134974\n",
      "Similarity(2,4): 0.2928932188134524\n",
      "Similarity(3,4): 0.06295742866836362\n"
     ]
    }
   ],
   "source": [
    "print(f'Similarity(1,2): {SimMatrix[0][1][0][0][0]}')\n",
    "print(f'Similarity(1,3): {SimMatrix[0][2][0][0][0]}')\n",
    "print(f'Similarity(1,4): {SimMatrix[0][3][0][0][0]}')\n",
    "print(f'Similarity(2,3): {SimMatrix[1][2][0][0][0]}')\n",
    "print(f'Similarity(2,4): {SimMatrix[1][3][0][0][0]}')\n",
    "print(f'Similarity(3,4): {SimMatrix[2][3][0][0][0]}')"
   ]
  },
  {
   "cell_type": "code",
   "execution_count": 491,
   "metadata": {},
   "outputs": [
    {
     "name": "stdout",
     "output_type": "stream",
     "text": [
      "Similarity(3,4): 0.06295742866836362\n",
      "Similarity(2,4): 0.2928932188134524\n",
      "Similarity(1,4): 0.2857142857142857\n"
     ]
    }
   ],
   "source": [
    "print(f'Similarity(3,4): {SimMatrix[2][3][0][0][0]}')\n",
    "print(f'Similarity(2,4): {SimMatrix[1][3][0][0][0]}')\n",
    "print(f'Similarity(1,4): {SimMatrix[0][3][0][0][0]}')"
   ]
  },
  {
   "cell_type": "code",
   "execution_count": 492,
   "metadata": {},
   "outputs": [
    {
     "data": {
      "text/plain": [
       "0.2299357901450888"
      ]
     },
     "execution_count": 492,
     "metadata": {},
     "output_type": "execute_result"
    }
   ],
   "source": [
    "SimMatrix[1][3][0][0][0] - SimMatrix[2][3][0][0][0]"
   ]
  },
  {
   "cell_type": "markdown",
   "metadata": {},
   "source": [
    "----"
   ]
  },
  {
   "cell_type": "code",
   "execution_count": 512,
   "metadata": {},
   "outputs": [],
   "source": [
    "from scipy.spatial.distance import cosine\n",
    "def CosineSim(saccades1,saccades2,Thr):\n",
    "   \n",
    "    bin_edges = np.linspace(0, 360, int(360/Thr)+1)  # 36 bins of 10° each + endpoint\n",
    "    \n",
    "    # Compute histograms (normalize to get probability distributions)\n",
    "    hist1, _ = np.histogram(saccades1, bins=bin_edges, density=True)\n",
    "    hist2, _ = np.histogram(saccades2, bins=bin_edges, density=True)\n",
    "        \n",
    "    # Compute cosine similarity\n",
    "    return  cosine(hist1, hist2)\n",
    "    "
   ]
  },
  {
   "cell_type": "code",
   "execution_count": 513,
   "metadata": {},
   "outputs": [],
   "source": [
    "saccades1 = [s.Angle() for s in Saccades[0][0]]\n",
    "saccades2 = [s.Angle() for s in Saccades[1][0]]\n",
    "saccades3 = [s.Angle() for s in Saccades[2][0]]\n",
    "saccades4 = [s.Angle() for s in Saccades[3][0]]"
   ]
  },
  {
   "cell_type": "code",
   "execution_count": 514,
   "metadata": {},
   "outputs": [],
   "source": [
    "Thr = 5"
   ]
  },
  {
   "cell_type": "code",
   "execution_count": 534,
   "metadata": {},
   "outputs": [],
   "source": [
    "bin_edges = np.linspace(0, 360, int(360/Thr)+1)  # 36 bins of 5° each + endpoint"
   ]
  },
  {
   "cell_type": "code",
   "execution_count": 516,
   "metadata": {},
   "outputs": [],
   "source": [
    "hist1, _ = np.histogram(saccades3, bins=bin_edges, density=True)\n",
    "hist2, _ = np.histogram(saccades4, bins=bin_edges, density=True)"
   ]
  },
  {
   "cell_type": "code",
   "execution_count": 517,
   "metadata": {},
   "outputs": [
    {
     "data": {
      "image/png": "[encoded data removed]",
      "text/plain": [
       "<Figure size 1200x600 with 2 Axes>"
      ]
     },
     "metadata": {},
     "output_type": "display_data"
    }
   ],
   "source": [
    "# plot histogram\n",
    "import matplotlib.pyplot as plt\n",
    "\n",
    "plt.figure(figsize=(12, 6))\n",
    "plt.subplot(1, 2, 1)\n",
    "plt.bar(bin_edges[:-1], hist1, width=np.diff(bin_edges), align='edge', alpha=0.7, color='b')\n",
    "plt.title('Scanpath 3')\n",
    "plt.xlabel('Angle (degrees)')\n",
    "plt.ylabel('Density')\n",
    "\n",
    "plt.subplot(1, 2, 2)\n",
    "plt.bar(bin_edges[:-1], hist2, width=np.diff(bin_edges), align='edge', alpha=0.7, color='r')\n",
    "plt.title('Scanpath 4')\n",
    "plt.xlabel('Angle (degrees)')\n",
    "plt.ylabel('Density')\n",
    "\n",
    "plt.tight_layout()\n",
    "plt.show()"
   ]
  },
  {
   "cell_type": "code",
   "execution_count": 518,
   "metadata": {},
   "outputs": [],
   "source": [
    "hist1, _ = np.histogram(saccades1, bins=bin_edges, density=True)\n",
    "hist2, _ = np.histogram(saccades2, bins=bin_edges, density=True)"
   ]
  },
  {
   "cell_type": "code",
   "execution_count": 519,
   "metadata": {},
   "outputs": [
    {
     "data": {
      "image/png": "[encoded data removed]",
      "text/plain": [
       "<Figure size 1200x600 with 2 Axes>"
      ]
     },
     "metadata": {},
     "output_type": "display_data"
    }
   ],
   "source": [
    "plt.figure(figsize=(12, 6))\n",
    "plt.subplot(1, 2, 1)\n",
    "plt.bar(bin_edges[:-1], hist1, width=np.diff(bin_edges), align='edge', alpha=0.7, color='b')\n",
    "plt.title('Scanpath 1')\n",
    "plt.xlabel('Angle (degrees)')\n",
    "plt.ylabel('Density')\n",
    "\n",
    "plt.subplot(1, 2, 2)\n",
    "plt.bar(bin_edges[:-1], hist2, width=np.diff(bin_edges), align='edge', alpha=0.7, color='r')\n",
    "plt.title('Scanpath 2')\n",
    "plt.xlabel('Angle (degrees)')\n",
    "plt.ylabel('Density')\n",
    "\n",
    "plt.tight_layout()\n",
    "plt.show()"
   ]
  },
  {
   "cell_type": "code",
   "execution_count": 528,
   "metadata": {},
   "outputs": [],
   "source": [
    "Thr = 10"
   ]
  },
  {
   "cell_type": "code",
   "execution_count": 535,
   "metadata": {},
   "outputs": [],
   "source": [
    "bin_edges = np.linspace(0, 360, int(360/Thr)+1)  # 36 bins of 10° each + endpoint"
   ]
  },
  {
   "cell_type": "code",
   "execution_count": 536,
   "metadata": {},
   "outputs": [],
   "source": [
    "hist1, _ = np.histogram(saccades3, bins=bin_edges, density=True)\n",
    "hist2, _ = np.histogram(saccades4, bins=bin_edges, density=True)"
   ]
  },
  {
   "cell_type": "code",
   "execution_count": 537,
   "metadata": {},
   "outputs": [
    {
     "data": {
      "image/png": "[encoded data removed]",
      "text/plain": [
       "<Figure size 1200x600 with 2 Axes>"
      ]
     },
     "metadata": {},
     "output_type": "display_data"
    }
   ],
   "source": [
    "plt.figure(figsize=(12, 6))\n",
    "plt.subplot(1, 2, 1)\n",
    "plt.bar(bin_edges[:-1], hist1, width=np.diff(bin_edges), align='edge', alpha=0.7, color='b')\n",
    "plt.title('Scanpath 3')\n",
    "plt.xlabel('Angle (degrees)')\n",
    "plt.ylabel('Density')\n",
    "\n",
    "plt.subplot(1, 2, 2)\n",
    "plt.bar(bin_edges[:-1], hist2, width=np.diff(bin_edges), align='edge', alpha=0.7, color='r')\n",
    "plt.title('Scanpath 4')\n",
    "plt.xlabel('Angle (degrees)')\n",
    "plt.ylabel('Density')\n",
    "\n",
    "plt.tight_layout()\n",
    "plt.show()"
   ]
  },
  {
   "cell_type": "code",
   "execution_count": 538,
   "metadata": {},
   "outputs": [],
   "source": [
    "hist1, _ = np.histogram(saccades1, bins=bin_edges, density=True)\n",
    "hist2, _ = np.histogram(saccades2, bins=bin_edges, density=True)"
   ]
  },
  {
   "cell_type": "code",
   "execution_count": 539,
   "metadata": {},
   "outputs": [
    {
     "data": {
      "image/png": "[encoded data removed]",
      "text/plain": [
       "<Figure size 1200x600 with 2 Axes>"
      ]
     },
     "metadata": {},
     "output_type": "display_data"
    }
   ],
   "source": [
    "plt.figure(figsize=(12, 6))\n",
    "plt.subplot(1, 2, 1)\n",
    "plt.bar(bin_edges[:-1], hist1, width=np.diff(bin_edges), align='edge', alpha=0.7, color='b')\n",
    "plt.title('Scanpath 1')\n",
    "plt.xlabel('Angle (degrees)')\n",
    "plt.ylabel('Density')\n",
    "\n",
    "plt.subplot(1, 2, 2)\n",
    "plt.bar(bin_edges[:-1], hist2, width=np.diff(bin_edges), align='edge', alpha=0.7, color='r')\n",
    "plt.title('Scanpath 2')\n",
    "plt.xlabel('Angle (degrees)')\n",
    "plt.ylabel('Density')\n",
    "\n",
    "plt.tight_layout()\n",
    "plt.show()"
   ]
  }
 ],
 "metadata": {
  "kernelspec": {
   "display_name": "eyesim",
   "language": "python",
   "name": "python3"
  },
  "language_info": {
   "codemirror_mode": {
    "name": "ipython",
    "version": 3
   },
   "file_extension": ".py",
   "mimetype": "text/x-python",
   "name": "python",
   "nbconvert_exporter": "python",
   "pygments_lexer": "ipython3",
   "version": "3.12.11"
  }
 },
 "nbformat": 4,
 "nbformat_minor": 2
}
