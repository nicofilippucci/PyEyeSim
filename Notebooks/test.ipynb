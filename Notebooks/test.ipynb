{
 "cells": [
  {
   "cell_type": "code",
   "execution_count": 3,
   "metadata": {},
   "outputs": [],
   "source": [
    "import numpy as np\n",
    "import pandas as pd\n",
    "from matplotlib import pyplot as plt\n",
    "from PyEyeSim import EyeData"
   ]
  },
  {
   "cell_type": "code",
   "execution_count": 4,
   "metadata": {},
   "outputs": [],
   "source": [
    "%load_ext autoreload\n",
    "%autoreload 2"
   ]
  },
  {
   "cell_type": "code",
   "execution_count": 5,
   "metadata": {},
   "outputs": [
    {
     "name": "stdout",
     "output_type": "stream",
     "text": [
      "(7, 9)\n"
     ]
    }
   ],
   "source": [
    "Path='C:/Users/nickp/Documents/Courses/P1&P2/EyeMovementDat/'\n",
    "FilePath=Path+'test.csv'\n",
    "FixData=pd.read_csv(FilePath, sep=',',header=0)\n",
    "print(np.shape(FixData))"
   ]
  },
  {
   "cell_type": "code",
   "execution_count": 6,
   "metadata": {},
   "outputs": [
    {
     "name": "stdout",
     "output_type": "stream",
     "text": [
      "dataset size:  (7, 9)\n",
      "presentation size:  x= 100 pixels y= 100  pixels\n",
      "presentation size:  x= 100 pixels y= 100  pixels\n",
      "Stimulus  not found !!, provide column as Stimulus =YourColumn , default:  Stimulus\n",
      "subjectID  not found !!, provide column as subjectID =YourColumn , default:  subjectID\n",
      "mean_x  not found !!, provide column as mean_x =YourColumn , default:  mean_x\n",
      "mean_y  not found !!, provide column as mean_y =YourColumn , default:  mean_y\n",
      "info found for 1 subjects, and 1 stimuli\n",
      "sizecorrect =  True ; If stimulus not full screen, assume central presentation, use correction\n",
      "run descriptive analysis\n",
      "Data for  1 observers and  1  stimuli.\n",
      "Mean fixation number:  7.0  +/-  0.0\n",
      "fixation duration not asked for\n",
      "Num of trials with zero fixations: 0\n",
      "Num valid trials  1\n",
      "Mean X location:  46.4  +/-  0.0  pixels\n",
      "Mean Y location:  41.4  +/-  0.0  pixels\n",
      "Mean saccade  amplitude:  48.4  +/-  0.0  pixels\n",
      "Mean scanpath  length:  290.2  +/-  0.0  pixels\n"
     ]
    },
    {
     "name": "stderr",
     "output_type": "stream",
     "text": [
      "C:\\Users\\nickp\\Documents\\GitHub\\PyEyeSim\\PyEyeSim\\__init__.py:280: UserWarning: Stim path not provided\n",
      "  warnings.warn(\"Stim path not provided\")\n"
     ]
    }
   ],
   "source": [
    "\n",
    "sizeX,sizeY=100,100\n",
    "\n",
    "\n",
    "DyslexiaDat=EyeData(FixData,sizeX,sizeY)\n",
    "DyslexiaDat.DataInfo(mean_x='fix_x',mean_y='fix_y',FixDuration='duration_ms',Stimulus='stimfile',subjectID='sid')"
   ]
  },
  {
   "cell_type": "code",
   "execution_count": 7,
   "metadata": {},
   "outputs": [
    {
     "data": {
      "image/png": "[encoded data removed]",
      "text/plain": [
       "<Figure size 640x480 with 1 Axes>"
      ]
     },
     "metadata": {},
     "output_type": "display_data"
    }
   ],
   "source": [
    "DyslexiaDat.VisScanPath(0,visFix=True,scan_path_col='lightblue', allS=0)"
   ]
  },
  {
   "cell_type": "markdown",
   "metadata": {},
   "source": [
    "---"
   ]
  },
  {
   "cell_type": "markdown",
   "metadata": {},
   "source": [
    "## ROI Features"
   ]
  },
  {
   "cell_type": "code",
   "execution_count": null,
   "metadata": {},
   "outputs": [],
   "source": [
    "from PyEyeSim.scanpathsimhelper import CreatAoiRects\n",
    "def SaccadeAndFeatures(self, SaccadeObj, nHor, stim, nVer=0, InferS=False):\n",
    "    if nVer == 0:\n",
    "        nVer = nHor  # if number of vertical divisions not provided, use same as horizontal\n",
    "\n",
    "    SaccadeAOIAngles = []   # store angles per saccade per ROI cell (even if the saccade crosses multiple cells)\n",
    "    SaccadeAOIAnglesCross = []  # for saccades that cross >1 ROI\n",
    "\n",
    "    # Create AOI rectangles. Here we assume CreatAoiRects returns a nested structure,\n",
    "    # e.g., AOIRects[stim][h][v] is an AOI rectangle object that has a .Cross(LinePoints) method.\n",
    "    if InferS:\n",
    "        if not hasattr(self, 'boundsX'):\n",
    "            print('Running descriptives to get bounds')\n",
    "            self.RunDescriptiveFix()  \n",
    "        AOIRects = CreatAoiRects(nHor, nVer, self.boundsX, self.boundsY)\n",
    "    else:\n",
    "        AOIRects = CreatAoiRects(nHor, nVer, self.x_size, self.y_size, allsame=self.np)\n",
    "\n",
    "    ns = self.ns  \n",
    "\n",
    "    Saccades = np.zeros(((ns, nVer, nHor)), dtype=np.ndarray)  # Array of saccades crossing each AOI rectangle for each trial and participant\n",
    "    for s in np.arange(self.ns):\n",
    "        SaccadeAOIAngles.append(np.zeros((int(self.nsac[s, stim]), nVer, nHor)))\n",
    "        SaccadeAOIAngles[s][:] = np.nan\n",
    "        SaccadeAOIAnglesCross.append(np.zeros((int(self.nsac[s, stim]), nVer, nHor)))\n",
    "        SaccadeAOIAnglesCross[s][:] = np.nan\n",
    "        \n",
    "        for sac in range(len(SaccadeObj[s][stim])):\n",
    "            SaccadeDots = SaccadeObj[s][stim][sac].LinePoints()\n",
    "            \n",
    "            for h in range(nHor):\n",
    "                for v in range(nVer):\n",
    "                    if AOIRects[stim][h][v].Cross(SaccadeDots):\n",
    "                        SaccadeAOIAngles[s][sac, v, h] = SaccadeObj[s][stim][sac].Angle()  # Get angle of the saccade\n",
    "                                           \n",
    "\n",
    "            # Select saccades that cross multiple cells\n",
    "            if np.sum(SaccadeAOIAngles[s][sac, :, :] > 0) > 1:\n",
    "                SaccadeAOIAnglesCross[s][sac, :, :] = SaccadeAOIAngles[s][sac, :, :]\n",
    "            else:\n",
    "                # search index of all the not nan values of SaccadeAOIAngles[s][p][sac,:,:]\n",
    "                idxs = np.argwhere(~np.isnan(SaccadeAOIAngles[s][sac, :, :]))\n",
    "                if len(idxs) > 0:\n",
    "                    for idx in idxs:\n",
    "                        v, h = idx\n",
    "                        if isinstance(Saccades[s,v,h], np.ndarray):\n",
    "                            Saccades[s,v,h]=np.append(Saccades[s,v,h],SaccadeAOIAngles[s][sac,v,h])\n",
    "                        else:\n",
    "                            Saccades[s,v,h]=np.array([SaccadeAOIAngles[s][sac,v,h]])\n",
    "\n",
    "        # store saccades that cross multiple AOI rectangles\n",
    "        for h in range(nHor):\n",
    "            for v in range(nVer):\n",
    "                if np.sum(np.isfinite(SaccadeAOIAnglesCross[s][:,v,h]))>0:\n",
    "                    if isinstance(Saccades[s,v,h], np.ndarray):\n",
    "                        Saccades[s,v,h]=np.append(Saccades[s,v,h],SaccadeAOIAnglesCross[s][~np.isnan(SaccadeAOIAnglesCross[s][:,v,h]),v,h])\n",
    "                    else:\n",
    "                        Saccades[s,v,h]=np.array(SaccadeAOIAnglesCross[s][~np.isnan(SaccadeAOIAnglesCross[s][:,v,h]),v,h])\n",
    "                elif not isinstance(Saccades[s,v,h], np.ndarray):\n",
    "                    Saccades[s,v,h]=np.array([])\n",
    "\n",
    "    Features = np.empty((ns, nVer, nHor), dtype=object)\n",
    "    for s in range(ns):\n",
    "        cords = []\n",
    "        for sac in range(len(SaccadeObj[s][stim])):\n",
    "            x1,y1,x2,y2 = SaccadeObj[s][stim][sac].Coords()\n",
    "            if cords == []:\n",
    "                cords.append((x1,y1))\n",
    "            else:\n",
    "                cords.append((x1,y1))\n",
    "        cords.append((x2,y2))\n",
    "        for h in range(nVer):\n",
    "            for v in range(nHor):\n",
    "                angles = np.array(Saccades[s, v, h])\n",
    "                \n",
    "                # Mean and STD for angles (if there is any data)\n",
    "                if angles.size > 0:\n",
    "                    mean_angle = np.nanmean(angles)\n",
    "                    std_angle = np.nanstd(angles)\n",
    "                else:\n",
    "                    mean_angle = np.nan\n",
    "                    std_angle = np.nan\n",
    "\n",
    "                #Count of fixations in the cell\n",
    "                landing_first_fix = [np.nan, np.nan]\n",
    "                fixation_count = 0\n",
    "                duration = np.array([])\n",
    "                for x,y in cords:\n",
    "                    if AOIRects[stim][h][v].Contains(x,y):\n",
    "                        if fixation_count == 0:\n",
    "                            landing_first_fix = [x,y]\n",
    "                        fixation_count += 1\n",
    "                        # self.data[['subjectID','duration','mean_x','mean_y']]\n",
    "                        # check fixation duration where subjectID = DyslexiaDat.subjects[s] and mean_x, mean_y are within the AOI\n",
    "                        duration = np.append(duration, self.data.loc[(self.data['subjectID'] == self.subjects[s]) & (self.data['mean_x'] == x) & (self.data['mean_y'] == y)]['duration'].values)\n",
    "\n",
    "                # Number of revisits – incoming saccades hitting this ROI from outside\n",
    "                revisits = 0\n",
    "                exits = False\n",
    "                for sac in range(len(SaccadeObj[s][stim])):\n",
    "                    x1,y1,x2,y2 = SaccadeObj[s][stim][sac].Coords()\n",
    "                    if AOIRects[stim][h][v].Contains(x1,y1) and not AOIRects[stim][h][v].Contains(x2,y2):\n",
    "                        exits = True\n",
    "                    if not AOIRects[stim][h][v].Contains(x1,y1) and AOIRects[stim][h][v].Contains(x2,y2) and exits:\n",
    "                        revisits += 1\n",
    "\n",
    "                Features[s, v, h] = {'mean_angle': mean_angle,\n",
    "                                        'std_angle': std_angle,\n",
    "                                        'fixation_count': fixation_count,\n",
    "                                        'mean_fixation_duration': np.nanmean(duration),\n",
    "                                        'number_of_revisits': revisits,\n",
    "                                        'landing_first_fix_x': landing_first_fix[0],\n",
    "                                        'landing_first_fix_y': landing_first_fix[1]\n",
    "                                        }\n",
    "                \n",
    "    return Saccades, Features"
   ]
  },
  {
   "cell_type": "code",
   "execution_count": 12,
   "metadata": {},
   "outputs": [
    {
     "name": "stdout",
     "output_type": "stream",
     "text": [
      "[1]\n",
      "[1 2]\n",
      "[1 2]\n",
      "[1]\n",
      "[1]\n",
      "[1]\n",
      "[1]\n"
     ]
    },
    {
     "name": "stderr",
     "output_type": "stream",
     "text": [
      "C:\\Users\\nickp\\AppData\\Local\\Temp\\ipykernel_14236\\158634676.py:111: RuntimeWarning: Mean of empty slice\n",
      "  'mean_fixation_duration': np.nanmean(duration),\n"
     ]
    }
   ],
   "source": [
    "SaccadeObj = DyslexiaDat.GetSaccades()\n",
    "Saccades, Features = SaccadeAndFeatures(DyslexiaDat, SaccadeObj, nHor=4, stim=0, nVer=4, InferS=False)"
   ]
  },
  {
   "cell_type": "code",
   "execution_count": 10,
   "metadata": {},
   "outputs": [
    {
     "name": "stdout",
     "output_type": "stream",
     "text": [
      "[[[{'mean_angle': nan, 'std_angle': nan, 'fixation_count': 0, 'mean_fixation_duration': nan, 'number_of_revisits': 0, 'landing_first_fix_x': nan, 'landing_first_fix_y': nan}\n",
      "   {'mean_angle': nan, 'std_angle': nan, 'fixation_count': 0, 'mean_fixation_duration': nan, 'number_of_revisits': 0, 'landing_first_fix_x': nan, 'landing_first_fix_y': nan}\n",
      "   {'mean_angle': nan, 'std_angle': nan, 'fixation_count': 0, 'mean_fixation_duration': nan, 'number_of_revisits': 0, 'landing_first_fix_x': nan, 'landing_first_fix_y': nan}\n",
      "   {'mean_angle': nan, 'std_angle': nan, 'fixation_count': 0, 'mean_fixation_duration': nan, 'number_of_revisits': 0, 'landing_first_fix_x': nan, 'landing_first_fix_y': nan}]\n",
      "  [{'mean_angle': nan, 'std_angle': nan, 'fixation_count': 0, 'mean_fixation_duration': nan, 'number_of_revisits': 0, 'landing_first_fix_x': nan, 'landing_first_fix_y': nan}\n",
      "   {'mean_angle': 111.07235171562509, 'std_angle': 73.3630153447977, 'fixation_count': 3, 'mean_fixation_duration': 1.4, 'number_of_revisits': 2, 'landing_first_fix_x': 25, 'landing_first_fix_y': 25}\n",
      "   {'mean_angle': 118.09646895416678, 'std_angle': 83.53935081974791, 'fixation_count': 0, 'mean_fixation_duration': nan, 'number_of_revisits': 0, 'landing_first_fix_x': nan, 'landing_first_fix_y': nan}\n",
      "   {'mean_angle': 156.07235171562508, 'std_angle': 97.77842484963013, 'fixation_count': 2, 'mean_fixation_duration': 1.0, 'number_of_revisits': 1, 'landing_first_fix_x': 75, 'landing_first_fix_y': 25}]\n",
      "  [{'mean_angle': nan, 'std_angle': nan, 'fixation_count': 0, 'mean_fixation_duration': nan, 'number_of_revisits': 0, 'landing_first_fix_x': nan, 'landing_first_fix_y': nan}\n",
      "   {'mean_angle': 90.0, 'std_angle': 0.0, 'fixation_count': 0, 'mean_fixation_duration': nan, 'number_of_revisits': 0, 'landing_first_fix_x': nan, 'landing_first_fix_y': nan}\n",
      "   {'mean_angle': nan, 'std_angle': nan, 'fixation_count': 0, 'mean_fixation_duration': nan, 'number_of_revisits': 0, 'landing_first_fix_x': nan, 'landing_first_fix_y': nan}\n",
      "   {'mean_angle': 270.0, 'std_angle': 0.0, 'fixation_count': 0, 'mean_fixation_duration': nan, 'number_of_revisits': 0, 'landing_first_fix_x': nan, 'landing_first_fix_y': nan}]\n",
      "  [{'mean_angle': nan, 'std_angle': nan, 'fixation_count': 0, 'mean_fixation_duration': nan, 'number_of_revisits': 0, 'landing_first_fix_x': nan, 'landing_first_fix_y': nan}\n",
      "   {'mean_angle': 45.0, 'std_angle': 45.0, 'fixation_count': 1, 'mean_fixation_duration': 1.0, 'number_of_revisits': 0, 'landing_first_fix_x': 25, 'landing_first_fix_y': 75}\n",
      "   {'mean_angle': 0.0, 'std_angle': 0.0, 'fixation_count': 0, 'mean_fixation_duration': nan, 'number_of_revisits': 0, 'landing_first_fix_x': nan, 'landing_first_fix_y': nan}\n",
      "   {'mean_angle': 135.0, 'std_angle': 135.0, 'fixation_count': 1, 'mean_fixation_duration': 1.0, 'number_of_revisits': 0, 'landing_first_fix_x': 75, 'landing_first_fix_y': 75}]]]\n"
     ]
    }
   ],
   "source": [
    "print(Features)"
   ]
  },
  {
   "cell_type": "markdown",
   "metadata": {},
   "source": [
    "---"
   ]
  },
  {
   "cell_type": "markdown",
   "metadata": {},
   "source": [
    "## Whole task Features\n"
   ]
  },
  {
   "cell_type": "code",
   "execution_count": 43,
   "metadata": {},
   "outputs": [
    {
     "data": {
      "text/plain": [
       "100"
      ]
     },
     "execution_count": 43,
     "metadata": {},
     "output_type": "execute_result"
    }
   ],
   "source": [
    "DyslexiaDat.x_size"
   ]
  },
  {
   "cell_type": "code",
   "execution_count": 45,
   "metadata": {},
   "outputs": [],
   "source": [
    "from scipy.stats import entropy\n",
    "def get_entropy(self, subj, stim):\n",
    "    # get fixation (array([x]), array([y]))\n",
    "    fixations = DyslexiaDat.GetFixationData(DyslexiaDat.subjects[subj], DyslexiaDat.stimuli[stim])\n",
    "    # calculate entropy of the fixation distribution\n",
    "    sizeX = self.x_size\n",
    "    sizeY = self.y_size\n",
    "    x = fixations[0].tolist()\n",
    "    y = fixations[1].tolist()\n",
    "    # create a 2D histogram\n",
    "    H, xedges, yedges = np.histogram2d(x, y, bins=(sizeX, sizeY))\n",
    "    # normalize the histogram\n",
    "    H = H / H.sum()\n",
    "    # calculate entropy\n",
    "    ent = entropy(H.flatten())\n",
    "    return ent"
   ]
  },
  {
   "cell_type": "code",
   "execution_count": 44,
   "metadata": {},
   "outputs": [],
   "source": [
    "def GlobalFeature(self, stim):\n",
    "    Features = np.empty((self.ns), dtype=object)\n",
    "    for s in range(self.ns):\n",
    "        angles = []\n",
    "        progressive_s = 0\n",
    "        regressive_s = 0\n",
    "        for saccade in self.GetSaccades()[s][stim]:\n",
    "            angles.append(saccade.Angle())\n",
    "            if saccade.Angle() > 270 or saccade.Angle() < 90:\n",
    "                progressive_s += 1\n",
    "            elif saccade.Angle() > 90 and saccade.Angle() < 270:\n",
    "                regressive_s += 1\n",
    "        \n",
    "        fix_durations = DyslexiaDat.GetDurations(DyslexiaDat.subjects[s], DyslexiaDat.stimuli[stim])\n",
    "\n",
    "        Features[s] = {'number_fixation':  self.nfixations[s][stim],\n",
    "                       'fixation_entropy': get_entropy(self, s, stim),\n",
    "                       'mean_fixation_duration': np.mean(fix_durations),\n",
    "                       'std_fixation_duration': np.std(fix_durations),\n",
    "                       'total_reading_duration': np.sum(fix_durations),\n",
    "                       'mean_saccade_amplitude': np.mean(angles),\n",
    "                       'std_saccade_amplitude': np.std(angles),\n",
    "                       'regression': regressive_s,\n",
    "                       'progression/regression': np.nan if regressive_s == 0 else progressive_s/regressive_s\n",
    "                        }\n",
    "    return Features  "
   ]
  },
  {
   "cell_type": "code",
   "execution_count": 46,
   "metadata": {},
   "outputs": [
    {
     "data": {
      "text/plain": [
       "array([{'number_fixation': 7.0, 'fixation_entropy': 1.7478680974667575, 'mean_fixation_duration': 1.0, 'std_fixation_duration': 0.0, 'total_reading_duration': 7, 'mean_saccade_amplitude': 119.04823447708338, 'std_saccade_amplitude': 98.94603289320432, 'regression': 2, 'progression/regression': 1.0}],\n",
       "      dtype=object)"
      ]
     },
     "execution_count": 46,
     "metadata": {},
     "output_type": "execute_result"
    }
   ],
   "source": [
    "GlobalFeature(DyslexiaDat, 0)"
   ]
  }
 ],
 "metadata": {
  "kernelspec": {
   "display_name": "eyesim",
   "language": "python",
   "name": "python3"
  },
  "language_info": {
   "codemirror_mode": {
    "name": "ipython",
    "version": 3
   },
   "file_extension": ".py",
   "mimetype": "text/x-python",
   "name": "python",
   "nbconvert_exporter": "python",
   "pygments_lexer": "ipython3",
   "version": "3.12.9"
  }
 },
 "nbformat": 4,
 "nbformat_minor": 2
}
